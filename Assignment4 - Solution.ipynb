{
 "cells": [
  {
   "cell_type": "code",
   "execution_count": 9,
   "metadata": {},
   "outputs": [],
   "source": [
    "#Define the function\n",
    "# pass parameters for the sides s,a,b,c\n",
    "# formula area = (s*(s-a)*(s-b)*(s-c)) ** 0.5 \n",
    "\n",
    "class triangle():\n",
    "    def __init__(self, s, a, b, c):\n",
    "        self.surface = s\n",
    "        self.firstside = a\n",
    "        self.secondside  = b\n",
    "        self.thirdside = c\n",
    "\n",
    "    def triangle_area(self):\n",
    "        #use the formula an return the results\n",
    "        return (self.surface*(self.surface-self.firstside)*(self.surface-self.secondside\n",
    ")*(self.surface-self.thirdside)) ** 0.5"
   ]
  },
  {
   "cell_type": "code",
   "execution_count": 10,
   "metadata": {},
   "outputs": [
    {
     "name": "stdout",
     "output_type": "stream",
     "text": [
      "The area of the triangle is 24.0\n"
     ]
    }
   ],
   "source": [
    "newTriangle = triangle(12,10,8,6)\n",
    "print(\"The area of the triangle is\", newTriangle.triangle_area())\n"
   ]
  },
  {
   "cell_type": "code",
   "execution_count": null,
   "metadata": {},
   "outputs": [],
   "source": [
    "#Define the function\n",
    "#Set the lengeth = 0\n",
    "#Now split the words using space\n",
    "#Check the length and compare with initial value and assign if greater. keep looping for all words\n",
    "# Print the one which is longest \n",
    "def find_longest_word(text):\n",
    "    longest = 0\n",
    "    for words in text.split():\n",
    "        print(words,len(words))\n",
    "        if len(words) > longest:\n",
    "            longest = len(words)\n",
    "            longest_word = words\n",
    "    print(\"The longest word is\", longest_word, \"with length\", len(longest_word))\n",
    "    return longest_word, len(longest_word)\n",
    "\n",
    "def main():\n",
    "    input_string = input(\"Please input a list of words to evaluate (space separted): \")\n",
    "    longest_word = find_longest_word(input_string)"
   ]
  },
  {
   "cell_type": "code",
   "execution_count": null,
   "metadata": {},
   "outputs": [],
   "source": [
    "main()"
   ]
  },
  {
   "cell_type": "code",
   "execution_count": null,
   "metadata": {},
   "outputs": [],
   "source": [
    "#Define the function length and get the words as list\n",
    "#initiate list for storing the length of each words\n",
    "#read each word and find the length and append to the list\n",
    "\n",
    "def length_func(words):\n",
    "    length = []\n",
    "    for word in words:\n",
    "        length.append(len(word))\n",
    "    return length"
   ]
  },
  {
   "cell_type": "code",
   "execution_count": null,
   "metadata": {},
   "outputs": [],
   "source": [
    "length_func(['absolute', 'try * me', 'test-result'])"
   ]
  },
  {
   "cell_type": "code",
   "execution_count": null,
   "metadata": {},
   "outputs": [],
   "source": [
    "#Define function vowel and pass 1 str paramter with length 1\n",
    "def isVowel(char):\n",
    "    # covert to lower on the paramter and check whether it is in the vowel list. \n",
    "    # this result will return true or false\n",
    "        result = char.lower() in 'aeiou'\n",
    "        return result"
   ]
  },
  {
   "cell_type": "code",
   "execution_count": null,
   "metadata": {},
   "outputs": [],
   "source": [
    "isVowel('T')"
   ]
  },
  {
   "cell_type": "code",
   "execution_count": null,
   "metadata": {},
   "outputs": [],
   "source": [
    "isVowel('o')"
   ]
  }
 ],
 "metadata": {
  "kernelspec": {
   "display_name": "Python 3",
   "language": "python",
   "name": "python3"
  },
  "language_info": {
   "codemirror_mode": {
    "name": "ipython",
    "version": 3
   },
   "file_extension": ".py",
   "mimetype": "text/x-python",
   "name": "python",
   "nbconvert_exporter": "python",
   "pygments_lexer": "ipython3",
   "version": "3.7.0"
  }
 },
 "nbformat": 4,
 "nbformat_minor": 2
}
